{
 "cells": [
  {
   "cell_type": "markdown",
   "metadata": {},
   "source": [
    "# Git ?\n",
    "\n",
    "One of the Version Control System\n",
    "\n",
    "Pros :\n",
    "<li> Saving di git ga akan prnh hlg data </li>\n",
    "<li> git notifies ketika ur work conflict dgn org lain jd lbh susah to overwrite </li>\n",
    "<li> Git can sycnhronize with different people and machines </li>  "
   ]
  },
  {
   "cell_type": "markdown",
   "metadata": {},
   "source": [
    "## Git have files & directories called repository. \n",
    "\n",
    "Git stores all information .git located in root directory of the repository. Never delete .git"
   ]
  },
  {
   "cell_type": "markdown",
   "metadata": {},
   "source": [
    "## To check status of your repository use git status\n",
    "\n",
    "git status : shows you which files are in this staging area, and which files have changes that haven't yet been put there"
   ]
  },
  {
   "cell_type": "code",
   "execution_count": null,
   "metadata": {},
   "outputs": [],
   "source": [
    "git status"
   ]
  },
  {
   "cell_type": "markdown",
   "metadata": {},
   "source": [
    "## How to check what i've changed use git diff\n",
    "\n",
    "Staging Area : tempat simpan file yg mau lu save tapi belum di save.\n",
    "Commit : Menyimpan file tapi sekali commit gabisa ditarik lg.\n",
    "\n",
    "git diff : show all changes in your repository\n",
    "git diff directory : show all changes in directory\n",
    "git diff filename : compare with the last filename"
   ]
  }
 ],
 "metadata": {
  "language_info": {
   "codemirror_mode": {
    "name": "ipython",
    "version": 3
   },
   "file_extension": ".py",
   "mimetype": "text/x-python",
   "name": "python",
   "nbconvert_exporter": "python",
   "pygments_lexer": "ipython3",
   "version": 3
  },
  "orig_nbformat": 2
 },
 "nbformat": 4,
 "nbformat_minor": 2
}