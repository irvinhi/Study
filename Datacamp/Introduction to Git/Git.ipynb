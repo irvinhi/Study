{
 "cells": [
  {
   "cell_type": "markdown",
   "metadata": {},
   "source": [
    "# Git ?\n",
    "\n",
    "One of the Version Control System\n",
    "\n",
    "Pros :\n",
    "<li> Saving di git ga akan prnh hlg data </li>\n",
    "<li> git notifies ketika ur work conflict dgn org lain jd lbh susah to overwrite </li>\n",
    "<li> Git can sycnhronize with different people and machines </li>  "
   ]
  },
  {
   "cell_type": "markdown",
   "metadata": {},
   "source": [
    "## Git have files & directories called repository. \n",
    "\n",
    "Git stores all information .git located in root directory of the repository. Never delete .git"
   ]
  },
  {
   "cell_type": "markdown",
   "metadata": {},
   "source": [
    "## To check status of your repository use git status\n",
    "\n",
    "git status : shows you which files are in this staging area, and which files have changes that haven't yet been put there"
   ]
  },
  {
   "cell_type": "code",
   "execution_count": null,
   "metadata": {},
   "outputs": [],
   "source": [
    "git status"
   ]
  },
  {
   "cell_type": "markdown",
   "metadata": {},
   "source": [
    "## How to check what i've changed use git diff\n",
    "\n",
    "<b>Staging Area</b> : tempat simpan file yg mau lu save tapi belum di save.\n",
    "\n",
    "<b>Commit</b> : Menyimpan file tapi sekali commit gabisa ditarik lg.\n",
    "\n",
    "git diff : show all changes in your repository\n",
    "git diff directory : show all changes in directory\n",
    "git diff filename : compare with the last filename"
   ]
  },
  {
   "cell_type": "markdown",
   "metadata": {},
   "source": [
    "## diff : a display of the differences between 2 files.\n",
    "\n",
    "Ex:\n",
    "\n",
    "<pre><code>diff --git a/report.txt b/report.txt\n",
    "index e713b17..4c0742a 100644\n",
    "--- a/report.txt\n",
    "+++ b/report.txt\n",
    "@@ -1,4 +1,5 @@\n",
    "-# Seasonal Dental Surgeries 2017-18\n",
    "+# Seasonal Dental Surgeries (2017) 2017-18\n",
    "+# TODO: write new summary</code></pre>\n",
    "\n",
    "Explanation :\n",
    "<ol>\n",
    "<p> diff --git a &amp; b : tempat taro versi, a 1st version, b 2nd version</p>\n",
    "<p> Index line (yg ada angka nomor aneh2) = key internal database of changes </p>\n",
    "<p> --- = ada line code yg dibuang </p>\n",
    "<p> +++ = ada line code yg ditambah </p>\n",
    "<p> @@ = dimana line nya yg dichanges following by <b>start line</b> and <b>number of lines @@ -1,4 +1,5 @@ : Awalnya cuma 4 line then +1 jd 5</b>\n",
    "<p> - = dibuang </p>\n",
    "<p> + = ditambah </p>\n",
    "<p> warna merah = remove warna green = add\n",
    "<p> kalau ga ad + / 0 ato warna berarti ga di modif </p>\n",
    "</ol>"
   ]
  },
  {
   "cell_type": "markdown",
   "metadata": {},
   "source": [
    "# How to commit changes in git?\n",
    "\n",
    "<ol>\n",
    "<li> Add 1 or more file to staging area </li>\n",
    "<li> Commit by using <b> git add filename </b> </li>"
   ]
  },
  {
   "cell_type": "code",
   "execution_count": null,
   "metadata": {},
   "outputs": [],
   "source": [
    "git add filename\n",
    "\n",
    "# Ex\n",
    "git add nama_file.txt"
   ]
  },
  {
   "cell_type": "markdown",
   "metadata": {},
   "source": [
    "## To compare your files in staging area you can use\n",
    "\n",
    "<b> git diff -r HEAD </b>\n",
    "\n",
    "-r : compare to particular revision\n",
    "HEAD : the most recent commit\n",
    "\n",
    "To specified a file or directory\n",
    "\n",
    "<b> git diff -r HEAD path/to/file </b>\n"
   ]
  },
  {
   "cell_type": "markdown",
   "metadata": {},
   "source": [
    "## Using nano to create new file\n",
    "\n",
    "nano nama_file"
   ]
  },
  {
   "cell_type": "markdown",
   "metadata": {},
   "source": [
    "## How to commit ?\n",
    "\n",
    "### git commit\n",
    "\n",
    "When you commit changes, Git requires you to enter a log message.\n",
    "\n",
    "you can use : \n",
    "\n",
    "### git commit -m 'isi pesan'\n",
    "\n",
    "if you have typo or mistakes change it using\n",
    "\n",
    "### git commit --amend - m 'isi pesan baru'"
   ]
  },
  {
   "cell_type": "markdown",
   "metadata": {},
   "source": [
    "## How to view repository's history ? \n",
    "\n",
    "### git log\n",
    "\n",
    "to quit use 'q'\n",
    "\n",
    "### To specified use\n",
    "\n",
    "giit log directory/nama_file"
   ]
  },
  {
   "cell_type": "code",
   "execution_count": null,
   "metadata": {},
   "outputs": [],
   "source": [
    "git log"
   ]
  },
  {
   "cell_type": "markdown",
   "metadata": {},
   "source": [
    "# How does Git store information?\n",
    "\n",
    "<ol>\n",
    "<li> Commit </li>\n",
    "<li> Tree </li>\n",
    "<li> Blob </li>\n",
    "</ol>"
   ]
  },
  {
   "cell_type": "markdown",
   "metadata": {},
   "source": [
    "## git HEAD always refer to most recent commit\n",
    "\n",
    "### HEAD~1 : Refers to the commit before it\n",
    "\n",
    "### HEAD~2 : refers to the commit before that (HEAD~1)"
   ]
  }
 ],
 "metadata": {
  "language_info": {
   "codemirror_mode": {
    "name": "ipython",
    "version": 3
   },
   "file_extension": ".py",
   "mimetype": "text/x-python",
   "name": "python",
   "nbconvert_exporter": "python",
   "pygments_lexer": "ipython3",
   "version": 3
  },
  "orig_nbformat": 2
 },
 "nbformat": 4,
 "nbformat_minor": 2
}