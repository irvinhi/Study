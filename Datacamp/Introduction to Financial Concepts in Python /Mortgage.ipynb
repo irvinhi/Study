{
 "cells": [
  {
   "cell_type": "code",
   "execution_count": 11,
   "metadata": {},
   "outputs": [],
   "source": [
    "import numpy as np"
   ]
  },
  {
   "cell_type": "markdown",
   "metadata": {},
   "source": [
    "# Mortgage / Kredit pemilikan rumah\n",
    "\n",
    "loan that covers the remaining cost of a house after paying a down payment\n",
    "\n",
    "Example:\n",
    "<li> $500,000 house </li>\n",
    "<li> 20% down payment </li>\n",
    "<li> $400,000 remaining in 30 years mortgage loan </li>"
   ]
  },
  {
   "cell_type": "code",
   "execution_count": 4,
   "metadata": {
    "tags": []
   },
   "outputs": [
    {
     "output_type": "stream",
     "name": "stdout",
     "text": "Initial Down payment: 45000000000.0\nMortgage Loan: 255000000000.0\n"
    }
   ],
   "source": [
    "home_value = float(input('Home Value'))\n",
    "\n",
    "down_payment_percent = float(input('How many % you will pay for down payment'))\n",
    "\n",
    "down_payment = home_value * down_payment_percent\n",
    "print('Initial Down payment: ' + str(down_payment))\n",
    "\n",
    "mortgage_loan = home_value - down_payment\n",
    "print('Mortgage Loan: ' + str(mortgage_loan))"
   ]
  },
  {
   "cell_type": "markdown",
   "metadata": {},
   "source": [
    "# Calculating the Monthly Mortgage Payment using np.pmt()\n",
    "\n",
    "First, convert an annual rate to a periodic rate\n",
    "\n",
    "R_Periodic = (1 + R_Annual)^(1/N)-1\n",
    "\n",
    "Where:\n",
    "<li> R: Rate of return or Interest rate </li>\n",
    "<li> N: Number of payment periods per year </li>\n",
    "\n",
    "Then use <b>np.pmt(rate,nper,pv)</b>\n",
    "\n",
    "### The higher down payment the lower Mortgage payment"
   ]
  },
  {
   "cell_type": "code",
   "execution_count": 15,
   "metadata": {
    "tags": []
   },
   "outputs": [
    {
     "output_type": "stream",
     "name": "stdout",
     "text": "Monthly Mortgage Payment: 4696.33\n"
    }
   ],
   "source": [
    "\n",
    "mortgage_rate = float(input('Mortgage Rate'))\n",
    "mortgage_loan = float(input('Mortgage Loan'))\n",
    "year = int(input('How many years?'))\n",
    "\n",
    "# Convert to periodic rate\n",
    "mortgage_rate_periodic = ((1+mortgage_rate)**(1/12)-1)\n",
    "\n",
    "# How many monthly payment periods \n",
    "mortgage_payment_periods = 12 * year\n",
    "\n",
    "# Calculate monthly mortgage payment (multiply by -1 to keep it positive)\n",
    "periodic_mortgage_payment = -1 * np.pmt(rate=mortgage_rate_periodic,nper=mortgage_payment_periods,pv=mortgage_loan)\n",
    "print(\"Monthly Mortgage Payment: \" + str(round(periodic_mortgage_payment, 2)))"
   ]
  },
  {
   "cell_type": "markdown",
   "metadata": {},
   "source": [
    "## Amortization\n",
    "\n",
    "#### Lu ambil kpr bbrp th awal lu bayar semua bunga kpr. itu murni bunga untuk bank. terus diakhir tahun baru cicilan kpr lu dimasukin ke equity.\n",
    "\n",
    "Principal (Equity): The amount of your mortgage paid that counts towards the value of the house itself / Cicilan pokok tidak termasuk bunga bank\n",
    "\n",
    "Interest Payment = IP Periodic = RMB * R_Periodic\n",
    "\n",
    "Principal Payment = MP_Periodic - IP_Periodic\n",
    "\n",
    "Where \n",
    "<li> PP: Principal Payment </li>\n",
    "<li> MP: Mortgage Payment </li>\n",
    "<li> IP: Interest Payment </li>\n",
    "<li> R: Mortgage Interest Rate (Periodic) </li>\n",
    "<li> RMB: Remaining Mortgage Balance </li>"
   ]
  },
  {
   "cell_type": "code",
   "execution_count": 19,
   "metadata": {
    "tags": []
   },
   "outputs": [
    {
     "output_type": "stream",
     "name": "stdout",
     "text": "Initial Interest Payment: 4573.04\nInitial Principal Payment: 123.29\n"
    }
   ],
   "source": [
    "# Calculate the amount of the first loan payment that will go towards interest\n",
    "initial_interest_payment = mortgage_loan * mortgage_rate_periodic\n",
    "print(\"Initial Interest Payment: \" + str(round(initial_interest_payment, 2)))\n",
    "\n",
    "# Calculate the amount of the first loan payment that will go towards principal\n",
    "initial_principal_payment = periodic_mortgage_payment - initial_interest_payment\n",
    "print(\"Initial Principal Payment: \" + str(round(initial_principal_payment, 2))"
   ]
  },
  {
   "cell_type": "markdown",
   "metadata": {},
   "source": [
    "# Underwater Mortgage\n",
    "\n",
    "When the remaining amount you debt on your mortgage is higher than the value itself. Basically hutang lu > rumah lu. Crisis 2008\n",
    "\n",
    "### underwater = principal_remaining > home_value_forecast\n",
    "\n",
    "\n",
    "Solution :\n",
    "<li> Restructuring the loan </li>\n",
    "<li> Continuing to pay the mortgage in hopes that the house price will rise </li>\n",
    "\n",
    "## Ownership / Kepimilikan\n",
    "\n",
    "Percent Equity Owned_t = P_Down + (E_Cumulative,t / V_Home)\n",
    "\n",
    "E_Cumulative,t = Sigma T to t=1 P_Principal,than\n",
    "\n",
    "Where:\n",
    "<li> E_Cumulative,t : E_Cumulative home equity at time t </li>\n",
    "<li> P_Principal,t : P_Principal payment at time t </li>\n",
    "<li> V_Home : Total home value </li>\n",
    "<li> P_Down : Initial down payment\n",
    "\n",
    "Cumulative Operation\n",
    "\n",
    "Cumulative Sum np.cumsum() = return Cumulative sum of an array instead of a single number as a sum. Basically fibonacci.\n",
    "\n",
    "Ex: [1,3,4] = 1+3+4 = 1,4,8\n",
    "\n",
    "Cumulative Product np.cumprod() = Sama kaya cumsum tapi dikali\n",
    "\n",
    "Ex: [1,4,5] = 1*4*5 = 1,4,20"
   ]
  },
  {
   "cell_type": "code",
   "execution_count": null,
   "metadata": {},
   "outputs": [],
   "source": [
    "# Calculate the cumulative home equity (principal) over time\n",
    "cumulative_home_equity = np.cumsum(principal_paid)\n",
    "\n",
    "# Calculate the cumulative interest paid over time\n",
    "cumulative_interest_paid = np.cumsum(interest_paid)\n",
    "\n",
    "# Calculate your percentage home equity over time\n",
    "cumulative_percent_owned = down_payment_percent + (cumulative_home_equity/home_value)\n",
    "print(cumulative_percent_owned)\n",
    "\n",
    "# Plot the cumulative interest paid vs equity accumulated\n",
    "plt.plot(cumulative_interest_paid, color='red')\n",
    "plt.plot(cumulative_home_equity, color='blue')\n",
    "plt.legend(handles=[interest_plot, principal_plot], loc=2)\n",
    "plt.show()"
   ]
  },
  {
   "cell_type": "markdown",
   "metadata": {},
   "source": [
    "### Calculate your home equity value over time given a steady growth rate of 0.25% per month. "
   ]
  },
  {
   "cell_type": "code",
   "execution_count": null,
   "metadata": {},
   "outputs": [],
   "source": [
    "import numpy as np\n",
    "\n",
    "# Calculate the cumulative growth over time\n",
    "cumulative_growth_forecast = np.cumprod(1+growth_array)\n",
    "\n",
    "# Forecast the home value over time\n",
    "home_value_forecast = cumulative_growth_forecast * home_value\n",
    "\n",
    "# Forecast the home equity value owned over time\n",
    "cumulative_home_value_owned = cumulative_percent_owned * home_value_forecast\n",
    "\n",
    "# Plot the home value vs equity accumulated\n",
    "plt.plot(home_value_forecast, color='red')\n",
    "plt.plot(cumulative_home_value_owned, color='blue')\n",
    "plt.legend(handles=[homevalue_plot, homeequity_plot], loc=2)\n",
    "plt.show()"
   ]
  },
  {
   "cell_type": "markdown",
   "metadata": {},
   "source": [
    "### Calculate the worst case scenario where home prices drop steadily at the rate of 0.45% per month"
   ]
  },
  {
   "cell_type": "code",
   "execution_count": null,
   "metadata": {},
   "outputs": [],
   "source": [
    "import numpy as np\n",
    "import pandas as pd\n",
    "\n",
    "# Cumulative drop in home value over time as a ratio\n",
    "cumulative_decline_forecast = np.cumprod(1+decline_array)\n",
    "\n",
    "# Forecast the home value over time\n",
    "home_value_forecast = home_value*cumulative_decline_forecast\n",
    "\n",
    "# Find all periods where your mortgage is underwater\n",
    "underwater = principal_remaining > home_value_forecast\n",
    "pd.value_counts(underwater)\n",
    "\n",
    "# Plot the home value vs principal remaining\n",
    "plt.plot(home_value_forecast, color='red')\n",
    "plt.plot(principal_remaining, color='blue')\n",
    "plt.legend(handles=[homevalue_plot, principal_plot], loc=2)\n",
    "plt.show()"
   ]
  }
 ],
 "metadata": {
  "language_info": {
   "codemirror_mode": {
    "name": "ipython",
    "version": 3
   },
   "file_extension": ".py",
   "mimetype": "text/x-python",
   "name": "python",
   "nbconvert_exporter": "python",
   "pygments_lexer": "ipython3",
   "version": 3
  },
  "orig_nbformat": 2,
  "kernelspec": {
   "name": "python_defaultSpec_1594343038455",
   "display_name": "Python 3.7.4 64-bit ('anaconda3': virtualenv)"
  }
 },
 "nbformat": 4,
 "nbformat_minor": 2
}