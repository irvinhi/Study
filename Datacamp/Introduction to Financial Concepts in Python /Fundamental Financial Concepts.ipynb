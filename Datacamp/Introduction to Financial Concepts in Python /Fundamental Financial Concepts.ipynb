{
 "cells": [
  {
   "cell_type": "markdown",
   "metadata": {},
   "source": [
    "# Calculate Return on Investment (Percentage)\n",
    "\n",
    "Return (% Gain) = vt2 - vt1 / vt1 * 100 = r\n",
    "\n",
    "Where: \n",
    "<li> vt1 = The initial value of the Investment </li>\n",
    "<li> vt2 = The last value of the Investment </li>"
   ]
  },
  {
   "cell_type": "markdown",
   "metadata": {},
   "source": [
    "# Calculate Return on Investment (Dollar Value)\n",
    "\n",
    "vt2 = vt1 * (1+r)\n",
    "\n",
    "Where :\n",
    "<li> vt1 = The initial value of the Investment </li>\n",
    "<li> vt2 = The final value of the Investment </li>\n",
    "<li> r = The rate of return of the Investment per period t </li>"
   ]
  },
  {
   "cell_type": "markdown",
   "metadata": {},
   "source": [
    "# Cumulative Growth\n",
    "\n",
    "Investment Value = vt0 * (1+r)^t\n",
    "\n",
    "Where :\n",
    "<li> vt0 = The initial value of the Investment </li>\n",
    "<li> t = Time </li>\n",
    "<li> r = Growth rate </li>\n",
    "\n",
    "If r is minus means the growth is depreciate\n",
    "\n",
    "Ex: Calculate the future value (cumulative return) of a $100 investment which grows at a rate of 6% per year for 30 years "
   ]
  },
  {
   "cell_type": "code",
   "execution_count": 5,
   "metadata": {
    "tags": []
   },
   "outputs": [
    {
     "output_type": "stream",
     "name": "stdout",
     "text": "total yg u dapatin: 198709408.24\n"
    }
   ],
   "source": [
    "initial_values = float(input('Brp duitmu?'))\n",
    "r = float(input('Bunganya?'))\n",
    "t = float(input('Brp th u mo invest'))\n",
    "future_value = initial_values * (1+r)**t\n",
    "print('total yg u dapatin: ' + str(round(future_value,2)))"
   ]
  },
  {
   "cell_type": "markdown",
   "metadata": {},
   "source": [
    "# Discount Factors and Depreciation\n",
    "\n",
    "Depreciation : Asset yang akan menurun seiring waktunya berjalan\n",
    "\n",
    "Discount Factors : u tau harga depreciation dan rate dari sebuah asset dan u pengen calculate awal jumlah lu invest\n",
    "\n",
    "df = 1 / (1+r)^t\n",
    "\n",
    "v = fv * df\n",
    "\n",
    "Where :\n",
    "<li> r = Rate of depreciation per period t. The growth rate should be negative since it's depreciation </li>\n",
    "<li> t = Time periods (in year) </li>\n",
    "<li> v = Initial value of the investment </li>\n",
    "<li> fv = future value of the investment </li>\n",
    "<li> df = Discount factors </li>\n",
    "\n",
    "Example: Calculate the discount factors of a $100 investment that depreciates in value by 5% per year for 10 "
   ]
  },
  {
   "cell_type": "code",
   "execution_count": 5,
   "metadata": {
    "tags": []
   },
   "outputs": [
    {
     "output_type": "stream",
     "name": "stdout",
     "text": "Future value: 59.87\nDiscount factor: 1.67\nInitial value: 100.0\n"
    }
   ],
   "source": [
    "initial_investment_v = float(input())\n",
    "growth_rate_r = float(input()) # Must be negative\n",
    "growth_period_t = float(input())\n",
    "\n",
    "# Calculate Future Value\n",
    "future_value = initial_investment_v * (1 + growth_rate_r)**growth_period_t\n",
    "print(\"Future value: \" + str(round(fv, 2)))\n",
    "\n",
    "# Calculate the discount factor\n",
    "discount_factor = 1 / (1 + growth_rate_r)**growth_period_t\n",
    "print(\"Discount factor: \" + str(round(discount_factor, 2)))\n",
    "\n",
    "# What is your initial value of investment\n",
    "initial_investment = future_value * discount_factor\n",
    "print(\"Initial value: \" + str(round(initial_investment, 2)))"
   ]
  },
  {
   "cell_type": "markdown",
   "metadata": {},
   "source": [
    "# Compound Interest \n",
    "\n",
    "Dalam keuangan, bunga majemuk adalah bunga yang dihitung dengan membungakan pinjaman pokok ditambah bunga dari periode sebelumnya\n",
    "\n",
    "Investment Value = vt0 $*$ (1+r/c)^(t $*$ c)\n",
    "\n",
    "Where :\n",
    "<li> r = Rate of depreciation per period t </li>\n",
    "<li> t = Time periods </li>\n",
    "<li> vt0 = Initial value of the investment </li>\n",
    "<li> c = The number of compounding periods per year\n",
    "\n",
    "Example: Calculate the value of a $100 investment which grows at a rate of 6% per year for 30 years in a row compounded monthly"
   ]
  },
  {
   "cell_type": "code",
   "execution_count": 11,
   "metadata": {
    "tags": []
   },
   "outputs": [
    {
     "output_type": "stream",
     "name": "stdout",
     "text": "Investment: 330.36\n"
    }
   ],
   "source": [
    "initial_values = float(input('Jumlah awal mo invest?'))\n",
    "growth_rate = float(input('Bunganya brp?'))\n",
    "compound_periods = float(input('Periode compundnya?'))\n",
    "growth_periods = float(input('Brp th mo invest?'))\n",
    "\n",
    "compound_invest = initial_values * (1+growth_rate/compound_periods)**(growth_periods*compound_periods)\n",
    "print(\"Investment: \" + str(round(compound_invest, 2)))"
   ]
  },
  {
   "cell_type": "markdown",
   "metadata": {},
   "source": [
    "## Calculate Present Value using np\n",
    "\n",
    "NPV is sum of all discounted cash flows. It's a simple cash flow valuation measure that does not allow for the comparison of different sized projects or lengths.\n",
    "\n",
    "NPV = Sigma T to t=1 (Ct/(1+r)^t) - Co\n",
    "\n",
    "Where :\n",
    "<li> Ct = Cash flow C at the time t </li>\n",
    "<li> r = Discount Rate </li>\n",
    "\n",
    "np.pv(rate, nper, pmt, fv)\n",
    "\n",
    "Where\n",
    "<li>rate: The rate of return of the investment</li>\n",
    "<li>nper: The lifespan of the investment</li>\n",
    "<li>pmt: The (fixed) payment at the beginning or end of each period</li>\n",
    "<li>fv: The future value of the investment</li>\n",
    "\n",
    "Example : \n",
    "<li>Compute the present value of an investment which will yield $10,000 15 years from now at an inflation rate of 3% per year</li>\n",
    "<li>Compute the present value of the same investment, but with a time horizon of only 10 years and an inflation rate of 5%</li>"
   ]
  },
  {
   "cell_type": "code",
   "execution_count": 14,
   "metadata": {
    "tags": []
   },
   "outputs": [
    {
     "output_type": "stream",
     "name": "stdout",
     "text": "8293.959432644833\n"
    }
   ],
   "source": [
    "import numpy as np\n",
    "\n",
    "rate = float(input('Input bunga'))\n",
    "nper = float(input('Brp lama?'))\n",
    "pmt = float(input('fixed payment?'))\n",
    "fv = float(input('future value'))\n",
    "\n",
    "investment_1 = np.pv(rate=rate,nper=nper,pmt=pmt,fv=fv)\n",
    "print(-investment_1)"
   ]
  },
  {
   "cell_type": "markdown",
   "metadata": {},
   "source": [
    "## Calculate Future Value of investment using np\n",
    "\n",
    "np.fv(rate, nper, pmt, fv)\n",
    "\n",
    "Where\n",
    "<li>rate: The rate of return of the investment</li>\n",
    "<li>nper: The lifespan of the investment</li>\n",
    "<li>pmt: The (fixed) payment at the beginning or end of each period</li>\n",
    "<li>fv: The future value of the investment</li>\n",
    "\n",
    "You must pass <b>negative value</b> to pv due it represents a negative cash flow\n",
    "\n",
    "Example: calculate the future value of a $10,000 investment returning 5% per year for 15 years"
   ]
  },
  {
   "cell_type": "code",
   "execution_count": 23,
   "metadata": {
    "tags": []
   },
   "outputs": [
    {
     "output_type": "stream",
     "name": "stdout",
     "text": "Investment 2 will yield a total of $20789.28 in 15.0 years\n"
    }
   ],
   "source": [
    "rate = float(input())\n",
    "nper = float(input())\n",
    "pmt = float(input())\n",
    "fv = float(input()) #must negative\n",
    "\n",
    "investment = np.fv(rate,nper,pmt,fv)\n",
    "print(\"Investment 2 will yield a total of $\" + str(round(investment, 2)) + \" in \" + str(nper) + \" years\")"
   ]
  },
  {
   "cell_type": "markdown",
   "metadata": {},
   "source": [
    "## Adjusting Future Values for Inflation\n",
    "\n",
    "<ol>\n",
    "<li> Forecast the future value by using np.fv </li>\n",
    "<li> Discount the future value by using projected inflation rate (np.pv)\n",
    "</ol>\n",
    "\n",
    "Example: Calculate the future value of a $10,000 investment returning 8% per year for 10 years. Then, Calculate the inflation-adjusted present value of initial future value, using an inflation rate of 3% per year."
   ]
  },
  {
   "cell_type": "code",
   "execution_count": 38,
   "metadata": {
    "tags": []
   },
   "outputs": [
    {
     "output_type": "stream",
     "name": "stdout",
     "text": "Investment 1 will yield a total of $-23903.27 in 10.0years\n"
    }
   ],
   "source": [
    "return_rate = float(input())\n",
    "nper = float(input())\n",
    "pmt = float(input())\n",
    "fv = float(input()) #must negative\n",
    "\n",
    "initial_fv = np.fv(rate,nper,pmt,fv)\n",
    "print(\"Investment 1 will yield a total of $\" + str(round(investment_1, 2)) + \" in \" + str(nper) + \"years\")"
   ]
  },
  {
   "cell_type": "code",
   "execution_count": 39,
   "metadata": {
    "tags": []
   },
   "outputs": [
    {
     "output_type": "stream",
     "name": "stdout",
     "text": "After adjusting for inflation, initial investment is worth $12120.51 in today's dollars\n"
    }
   ],
   "source": [
    "inflation_rate = float(input())\n",
    "inflantion_adjusted = np.pv(inflation_rate,nper,pmt,fv=initial_fv)\n",
    "print(\"After adjusting for inflation, initial investment is worth $\" + str(round(-inflantion_adjusted, 2)) + \" in today's dollars\")"
   ]
  },
  {
   "cell_type": "markdown",
   "metadata": {},
   "source": [
    "## Cash Flows\n",
    "\n",
    "Series of gains or losses from an investment over time\n",
    "\n",
    "By using np.npv we can calculate cash flows of net present value by using np.array"
   ]
  },
  {
   "cell_type": "code",
   "execution_count": 47,
   "metadata": {
    "tags": []
   },
   "outputs": [
    {
     "output_type": "stream",
     "name": "stdout",
     "text": "[13944.  2494. 24424.   234.]\nThe net present value of Investment 1 is worth $665.54 in today's dollars\nThe net present value of Investment 2 is worth $346.7 in today's dollars\nThe net present value of Investment array is worth $39601.46 in today's dollars\n"
    }
   ],
   "source": [
    "import numpy as np\n",
    "\n",
    "arr = []\n",
    "\n",
    "a=int(input('How many money that you want to input'))\n",
    "for i in range(a):\n",
    "    arr.append(float(input()))\n",
    "cash_flows = np.array(arr)\n",
    "print(cash_flows)\n",
    "\n",
    "cash_flows_1 = np.array([-250,100,200,300,400])\n",
    "cash_flows_2 = np.array([-250,300,-250,300,300])\n",
    "\n",
    "investment_1 = np.npv(rate=0.03, values=cash_flows_1)\n",
    "print(\"The net present value of Investment 1 is worth $\" + str(round(investment_1, 2)) + \" in today's dollars\")\n",
    "\n",
    "investment_2 = np.npv(rate=0.03, values=cash_flows_2)\n",
    "print(\"The net present value of Investment 2 is worth $\" + str(round(investment_2, 2)) + \" in today's dollars\")\n",
    "\n",
    "investment = np.npv(rate=0.03, values=cash_flows)\n",
    "print(\"The net present value of Investment array is worth $\" + str(round(investment, 2)) + \" in today's dollars\")"
   ]
  },
  {
   "cell_type": "markdown",
   "metadata": {},
   "source": [
    "# Internal Rate of Return using np.irr()\n",
    "\n",
    "Is a measure of the profitability of an investment rate in percentage. Unlike NPV it can be used to compare projects of different sizes and lengths(cashflows).\n",
    "\n",
    "Indikator tingkat efisiensi dari suatu investasi.\n",
    "\n",
    "The higher the Return is better %\n",
    "\n",
    "IRR in the NPV = Sigma t to t=1 (Ct/(1+IRR)^t) - Co = 0\n",
    "\n",
    "Where :\n",
    "<li> Ct = Cash flow C at the time t </li>\n",
    "<li> IRR = Internal Rate of Return </li>\n",
    "\n",
    "np.irr(values)"
   ]
  },
  {
   "cell_type": "code",
   "execution_count": 61,
   "metadata": {
    "tags": []
   },
   "outputs": [
    {
     "output_type": "stream",
     "name": "stdout",
     "text": "Project 1 IRR: 28.92%\nProject 2 IRR: 28.78%\n"
    }
   ],
   "source": [
    "cf_project_1 = [-1000,200,250,300,350,400,450,500,550,600]\n",
    "cf_project_2 = [-1000,150,225,300,375,425,500,575,600,625]\n",
    "\n",
    "# Scale the projects by 1000x\n",
    "cf_project1 = np.array(cf_project_1)*1000\n",
    "cf_project2 = np.array(cf_project_2)*1000\n",
    "\n",
    "#IRR\n",
    "irr_project1 = np.irr(cf_project1)\n",
    "print(\"Project 1 IRR: \" + str(round(100*irr_project1, 2)) + \"%\")\n",
    "irr_project2 = np.irr(cf_project2)\n",
    "print(\"Project 2 IRR: \" + str(round(100*irr_project2, 2)) + \"%\")"
   ]
  },
  {
   "cell_type": "markdown",
   "metadata": {},
   "source": [
    "# The Weighted Average Cost of Capital (WACC) / Biaya modal\n",
    "\n",
    "WACC is the cost of funding a business. consisted of:\n",
    "<li>Cost of equity : Ownership of assets that may have debt or liabilities (hutang yang harus dilunasi)</li>\n",
    "<li>Cost of debt : literally hutang lmao</li> \n",
    "\n",
    "Each cost is multiplied by relative proportion of a funding that comes from debt or equity. WACC is equal to sum of equity, debt, tax.\n",
    "\n",
    "WACC = F_Equity * C_Equity + F_Debt * C_Debt * (1-TR)\n",
    "\n",
    "Where:\n",
    "<li> F_Equity : The proportion (%) of a company's financing via equity </li>\n",
    "<li> F_Debt : The proportion (%) of a company's financing via Debt </li>\n",
    "<li> C_Equity : The Cost of a company's equity </li>\n",
    "<li> C_Debt : The Cost of a company's debt </li>\n",
    "<li> TR : Tax Rate </li>\n",
    "\n",
    "## Proportion of Financing\n",
    "\n",
    "\n",
    "<li> F_Equity = M_Equity / M_Total </li>\n",
    "<li> F_Debt = M_Debt / M_Total </li>\n",
    "<li> M_Total = M_Debt + M_Equity </li>\n",
    "\n",
    "Where:\n",
    "<li> M_Debt : Market value of a company's Debt </li>\n",
    "<li> M_Equity : Market value of a company's Equity </li>\n",
    "<li> M_Total : Total value of a company's financing </li>\n",
    "\n",
    "Example: assume you take out a $$1,000,000$ loan to finance the project, which will be your company's only outstanding debt. This loan will represent $50%$ of your company's total financing of $$2,000,000.$ The remaining funding comes from the market value of equity."
   ]
  },
  {
   "cell_type": "code",
   "execution_count": 66,
   "metadata": {
    "tags": []
   },
   "outputs": [
    {
     "output_type": "stream",
     "name": "stdout",
     "text": "28337.0\nDebt Financing: 17.27%\nEquity Financing: 82.73%\n"
    }
   ],
   "source": [
    "# Calculating Proportion of Financing\n",
    "\n",
    "mv_debt = float(input('Debt'))\n",
    "mv_equity = float(input('Equity'))\n",
    "\n",
    "m_total = mv_debt + mv_equity\n",
    "print(m_total)\n",
    "\n",
    "f_debt = mv_debt / m_total\n",
    "print(\"Debt Financing: \" + str(round(100*f_debt, 2)) + \"%\")\n",
    "\n",
    "f_equity = mv_equity / m_total\n",
    "print(\"Equity Financing: \" + str(round(100*f_equity, 2)) + \"%\")"
   ]
  },
  {
   "cell_type": "code",
   "execution_count": 69,
   "metadata": {
    "tags": []
   },
   "outputs": [
    {
     "output_type": "stream",
     "name": "stdout",
     "text": "WACC: 12.9%\n"
    }
   ],
   "source": [
    "# Calculating Debt\n",
    "\n",
    "percent_debt = float(input('How much debt you have in % ?'))\n",
    "percent_equity = float(input('How much equity you have in % ?'))\n",
    "cost_equity = float(input('How much equity you have?'))\n",
    "cost_debt = float(input('How much debt you have?'))\n",
    "tax_rate = float(input('Tax rate?'))\n",
    "\n",
    "wacc = percent_equity * cost_equity + percent_debt * cost_debt * (1-tax_rate)\n",
    "print(\"WACC: \" + str(round(100*wacc, 2)) + \"%\")"
   ]
  },
  {
   "cell_type": "markdown",
   "metadata": {},
   "source": [
    "# Comparing Project NPV with IRR\n",
    "\n",
    "Companies use WACC as discount rate to calculate net present value of potential projects. After calculating we can determine NPV of each project's cash flows.\n",
    "\n",
    "The higher NPV the better is value"
   ]
  },
  {
   "cell_type": "code",
   "execution_count": 70,
   "metadata": {
    "tags": []
   },
   "outputs": [
    {
     "output_type": "stream",
     "name": "stdout",
     "text": "Project 1 NPV: 492.25\nProject 2 NPV: 516.75\n"
    }
   ],
   "source": [
    "cf_project_1 = [-1000,200,250,300,350,400,450,500,550,600]\n",
    "cf_project_2 = [-1000,150,225,300,375,425,500,575,600,625]\n",
    "\n",
    "WACC = float(input('WACC'))\n",
    "\n",
    "npv_project1 = np.npv(WACC,cf_project_1)\n",
    "print(\"Project 1 NPV: \" + str(round(npv_project1, 2)))\n",
    "npv_project2 = np.npv(WACC,cf_project_2)\n",
    "print(\"Project 2 NPV: \" + str(round(npv_project2, 2)))"
   ]
  },
  {
   "cell_type": "markdown",
   "metadata": {},
   "source": [
    "# Comparing Two Projects of Different Life Spans\n",
    "\n",
    "## Calculating IRR and NPV With Different Project Lifespans\n",
    "\n",
    "IRR is relatively comparable while NPV is much difficult to compare. It's ok to compare IRR between the 2 projects even the NPV is misleading but it doesn't gice sense of size in terms of profitability. \n",
    "\n",
    "## How to solve this? Using Equivalent Annual Annuity"
   ]
  },
  {
   "cell_type": "markdown",
   "metadata": {},
   "source": [
    "# Equivalent Annual Annuity(EAA) using np.pmt()\n",
    "\n",
    "Used to compare 2 projects of different lifespans in present value terms. We need to compute <b>IRR and NPV with different project lifespans</b> first.\n",
    "\n",
    "## np.pmt(rate, nper, pv, fv)\n",
    "Remember to use negative / - in pv.\n",
    "\n",
    "Higher EAA means higher annual returns\n"
   ]
  },
  {
   "cell_type": "code",
   "execution_count": 101,
   "metadata": {
    "tags": []
   },
   "outputs": [
    {
     "output_type": "stream",
     "name": "stdout",
     "text": "Project 1 IRR:  22.94%\nProject 2 IRR:  26.89%\n\nProject 1 NPV: 302744.98\nProject 2 NPV: 231228.39\n\nProject 1 EAA: 62872.2\nProject 2 EAA: 52120.61\n"
    }
   ],
   "source": [
    "# Initial CF\n",
    "cf_project1 = np.array([-700,100,150,200,250,300,350,400])*1000\n",
    "cf_project2 = np.array([-400,50,100,150,200,250,300])*1000\n",
    "\n",
    "rate = float(input()) # Or WACC\n",
    "\n",
    "# Calculate IRR\n",
    "irr_project1 = np.irr(cf_project1)\n",
    "print('Project 1 IRR: ',str(round(100*irr_project1,2))+ '%')\n",
    "irr_project2 = np.irr(cf_project2)\n",
    "print('Project 2 IRR: ',str(round(100*irr_project2,2))+ '%'+ '\\n')\n",
    "\n",
    "# Calculate NPV\n",
    "npv_project1 = np.npv(rate,cf_project1)\n",
    "print('Project 1 NPV: ' + str(round(npv_project1,2)))\n",
    "npv_project2 = np.npv(rate,cf_project2)\n",
    "print('Project 2 NPV: ' + str(round(npv_project2,2)) + '\\n')\n",
    "\n",
    "eaa_project1 = np.pmt(rate=rate, nper=8, pv=-npv_project1, fv=0)\n",
    "print('Project 1 EAA: ' + str(round(eaa_project1,2)))\n",
    "eaa_project2 = np.pmt(rate=rate, nper=7, pv=-npv_project2, fv=0)\n",
    "print('Project 2 EAA: ' + str(round(eaa_project2,2)))"
   ]
  },
  {
   "cell_type": "code",
   "execution_count": null,
   "metadata": {},
   "outputs": [],
   "source": []
  }
 ],
 "metadata": {
  "language_info": {
   "codemirror_mode": {
    "name": "ipython",
    "version": 3
   },
   "file_extension": ".py",
   "mimetype": "text/x-python",
   "name": "python",
   "nbconvert_exporter": "python",
   "pygments_lexer": "ipython3",
   "version": "3.7.4-final"
  },
  "orig_nbformat": 2,
  "kernelspec": {
   "name": "python37464bitbaseconda25287534149b419a95a41de18be99293",
   "display_name": "Python 3.7.4 64-bit ('base': conda)"
  }
 },
 "nbformat": 4,
 "nbformat_minor": 2
}