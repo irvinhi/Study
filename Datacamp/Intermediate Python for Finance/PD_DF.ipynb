{
 "cells": [
  {
   "cell_type": "code",
   "execution_count": 2,
   "metadata": {
    "tags": []
   },
   "outputs": [
    {
     "output_type": "stream",
     "name": "stdout",
     "text": "date      close        volume       open       high        low\n0       13:33   1,155.14     1,145,529      1,172   1,176.88      1,152\n1  2019/08/02  1196.3200  1745450.0000  1203.0000  1209.5000  1190.0000\n2  2019/08/01  1211.7800  1771271.0000  1217.6300  1236.2980  1207.0000\n3  2019/07/31  1218.2000  1997999.0000  1224.8700  1234.9100  1208.1800\n4  2019/07/30  1228.0000  1430775.0000  1227.0000  1236.9100  1225.3200\n"
    }
   ],
   "source": [
    "import pandas as pd\n",
    "data = pd.read_csv('HistoricalQuotes.csv')\n",
    "print(data.head())"
   ]
  },
  {
   "cell_type": "code",
   "execution_count": 6,
   "metadata": {},
   "outputs": [
    {
     "output_type": "execute_result",
     "data": {
      "text/plain": "0            13:33\n1       2019/08/02\n2       2019/08/01\n3       2019/07/31\n4       2019/07/30\n           ...    \n2514    2009/08/07\n2515    2009/08/06\n2516    2009/08/05\n2517    2009/08/04\n2518    2009/08/03\nName: date, Length: 2519, dtype: object"
     },
     "metadata": {},
     "execution_count": 6
    }
   ],
   "source": [
    "# Several ways to access data\n",
    "\n",
    "#Using bracet\n",
    "data['date']\n",
    "\n",
    "#Using dot-syntax\n",
    "data.date"
   ]
  },
  {
   "cell_type": "code",
   "execution_count": 9,
   "metadata": {},
   "outputs": [
    {
     "output_type": "execute_result",
     "data": {
      "text/plain": "          close       open\n0      1,155.14      1,172\n1     1196.3200  1203.0000\n2     1211.7800  1217.6300\n3     1218.2000  1224.8700\n4     1228.0000  1227.0000\n...         ...        ...\n2514   230.9017   230.1794\n2515   227.4971   229.4873\n2516   227.8911   230.3461\n2517   229.2014   226.9970\n2518   228.4316   226.6787\n\n[2519 rows x 2 columns]",
      "text/html": "<div>\n<style scoped>\n    .dataframe tbody tr th:only-of-type {\n        vertical-align: middle;\n    }\n\n    .dataframe tbody tr th {\n        vertical-align: top;\n    }\n\n    .dataframe thead th {\n        text-align: right;\n    }\n</style>\n<table border=\"1\" class=\"dataframe\">\n  <thead>\n    <tr style=\"text-align: right;\">\n      <th></th>\n      <th>close</th>\n      <th>open</th>\n    </tr>\n  </thead>\n  <tbody>\n    <tr>\n      <td>0</td>\n      <td>1,155.14</td>\n      <td>1,172</td>\n    </tr>\n    <tr>\n      <td>1</td>\n      <td>1196.3200</td>\n      <td>1203.0000</td>\n    </tr>\n    <tr>\n      <td>2</td>\n      <td>1211.7800</td>\n      <td>1217.6300</td>\n    </tr>\n    <tr>\n      <td>3</td>\n      <td>1218.2000</td>\n      <td>1224.8700</td>\n    </tr>\n    <tr>\n      <td>4</td>\n      <td>1228.0000</td>\n      <td>1227.0000</td>\n    </tr>\n    <tr>\n      <td>...</td>\n      <td>...</td>\n      <td>...</td>\n    </tr>\n    <tr>\n      <td>2514</td>\n      <td>230.9017</td>\n      <td>230.1794</td>\n    </tr>\n    <tr>\n      <td>2515</td>\n      <td>227.4971</td>\n      <td>229.4873</td>\n    </tr>\n    <tr>\n      <td>2516</td>\n      <td>227.8911</td>\n      <td>230.3461</td>\n    </tr>\n    <tr>\n      <td>2517</td>\n      <td>229.2014</td>\n      <td>226.9970</td>\n    </tr>\n    <tr>\n      <td>2518</td>\n      <td>228.4316</td>\n      <td>226.6787</td>\n    </tr>\n  </tbody>\n</table>\n<p>2519 rows × 2 columns</p>\n</div>"
     },
     "metadata": {},
     "execution_count": 9
    }
   ],
   "source": [
    "# Access using multiple columns\n",
    "data[['close','open']]"
   ]
  },
  {
   "cell_type": "markdown",
   "metadata": {},
   "source": [
    "### Recall that\n",
    "\n",
    "Example : mylist [startAt:endBefore]"
   ]
  },
  {
   "cell_type": "code",
   "execution_count": 24,
   "metadata": {},
   "outputs": [
    {
     "output_type": "execute_result",
     "data": {
      "text/plain": "         date      close        volume       open       high        low\n0       13:33   1,155.14     1,145,529      1,172   1,176.88      1,152\n1  2019/08/02  1196.3200  1745450.0000  1203.0000  1209.5000  1190.0000\n2  2019/08/01  1211.7800  1771271.0000  1217.6300  1236.2980  1207.0000\n3  2019/07/31  1218.2000  1997999.0000  1224.8700  1234.9100  1208.1800\n4  2019/07/30  1228.0000  1430775.0000  1227.0000  1236.9100  1225.3200\n5  2019/07/29  1241.8400  2069127.0000  1242.5000  1248.9950  1230.2000\n6  2019/07/26  1245.2200  6060795.0000  1228.0000  1268.3940  1228.0000\n7  2019/07/25  1135.9400  2738139.0000  1138.9500  1143.5910  1123.7100\n8  2019/07/24  1139.7300  1359956.0000  1132.6200  1145.4550  1128.5100",
      "text/html": "<div>\n<style scoped>\n    .dataframe tbody tr th:only-of-type {\n        vertical-align: middle;\n    }\n\n    .dataframe tbody tr th {\n        vertical-align: top;\n    }\n\n    .dataframe thead th {\n        text-align: right;\n    }\n</style>\n<table border=\"1\" class=\"dataframe\">\n  <thead>\n    <tr style=\"text-align: right;\">\n      <th></th>\n      <th>date</th>\n      <th>close</th>\n      <th>volume</th>\n      <th>open</th>\n      <th>high</th>\n      <th>low</th>\n    </tr>\n  </thead>\n  <tbody>\n    <tr>\n      <td>0</td>\n      <td>13:33</td>\n      <td>1,155.14</td>\n      <td>1,145,529</td>\n      <td>1,172</td>\n      <td>1,176.88</td>\n      <td>1,152</td>\n    </tr>\n    <tr>\n      <td>1</td>\n      <td>2019/08/02</td>\n      <td>1196.3200</td>\n      <td>1745450.0000</td>\n      <td>1203.0000</td>\n      <td>1209.5000</td>\n      <td>1190.0000</td>\n    </tr>\n    <tr>\n      <td>2</td>\n      <td>2019/08/01</td>\n      <td>1211.7800</td>\n      <td>1771271.0000</td>\n      <td>1217.6300</td>\n      <td>1236.2980</td>\n      <td>1207.0000</td>\n    </tr>\n    <tr>\n      <td>3</td>\n      <td>2019/07/31</td>\n      <td>1218.2000</td>\n      <td>1997999.0000</td>\n      <td>1224.8700</td>\n      <td>1234.9100</td>\n      <td>1208.1800</td>\n    </tr>\n    <tr>\n      <td>4</td>\n      <td>2019/07/30</td>\n      <td>1228.0000</td>\n      <td>1430775.0000</td>\n      <td>1227.0000</td>\n      <td>1236.9100</td>\n      <td>1225.3200</td>\n    </tr>\n    <tr>\n      <td>5</td>\n      <td>2019/07/29</td>\n      <td>1241.8400</td>\n      <td>2069127.0000</td>\n      <td>1242.5000</td>\n      <td>1248.9950</td>\n      <td>1230.2000</td>\n    </tr>\n    <tr>\n      <td>6</td>\n      <td>2019/07/26</td>\n      <td>1245.2200</td>\n      <td>6060795.0000</td>\n      <td>1228.0000</td>\n      <td>1268.3940</td>\n      <td>1228.0000</td>\n    </tr>\n    <tr>\n      <td>7</td>\n      <td>2019/07/25</td>\n      <td>1135.9400</td>\n      <td>2738139.0000</td>\n      <td>1138.9500</td>\n      <td>1143.5910</td>\n      <td>1123.7100</td>\n    </tr>\n    <tr>\n      <td>8</td>\n      <td>2019/07/24</td>\n      <td>1139.7300</td>\n      <td>1359956.0000</td>\n      <td>1132.6200</td>\n      <td>1145.4550</td>\n      <td>1128.5100</td>\n    </tr>\n  </tbody>\n</table>\n</div>"
     },
     "metadata": {},
     "execution_count": 24
    }
   ],
   "source": [
    "# Access rows using brackets\n",
    "\n",
    "data[0:9]"
   ]
  },
  {
   "cell_type": "code",
   "execution_count": 33,
   "metadata": {},
   "outputs": [
    {
     "output_type": "error",
     "ename": "SyntaxError",
     "evalue": "invalid syntax (<ipython-input-33-d486713b0003>, line 3)",
     "traceback": [
      "\u001b[0;36m  File \u001b[0;32m\"<ipython-input-33-d486713b0003>\"\u001b[0;36m, line \u001b[0;32m3\u001b[0m\n\u001b[0;31m    data.loc['date':'open',[1:3]]\u001b[0m\n\u001b[0m                             ^\u001b[0m\n\u001b[0;31mSyntaxError\u001b[0m\u001b[0;31m:\u001b[0m invalid syntax\n"
     ]
    }
   ],
   "source": [
    "# Access rows using boolean\n",
    "\n",
    "data.loc['date':'open',[1:3]]"
   ]
  },
  {
   "cell_type": "code",
   "execution_count": null,
   "metadata": {},
   "outputs": [],
   "source": []
  }
 ],
 "metadata": {
  "language_info": {
   "codemirror_mode": {
    "name": "ipython",
    "version": 3
   },
   "file_extension": ".py",
   "mimetype": "text/x-python",
   "name": "python",
   "nbconvert_exporter": "python",
   "pygments_lexer": "ipython3",
   "version": 3
  },
  "orig_nbformat": 2,
  "kernelspec": {
   "name": "python_defaultSpec_1594070578793",
   "display_name": "Python 3.7.4 64-bit ('base': conda)"
  }
 },
 "nbformat": 4,
 "nbformat_minor": 2
}