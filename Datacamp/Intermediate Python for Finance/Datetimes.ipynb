{
 "cells": [
  {
   "cell_type": "markdown",
   "metadata": {},
   "source": [
    "# Datetime"
   ]
  },
  {
   "cell_type": "code",
   "execution_count": 10,
   "metadata": {},
   "outputs": [],
   "source": [
    "import datetime\n",
    "import pandas as pd\n",
    "data = pd.read_csv('HistoricalQuotes.csv')"
   ]
  },
  {
   "cell_type": "code",
   "execution_count": 20,
   "metadata": {
    "tags": []
   },
   "outputs": [
    {
     "output_type": "stream",
     "name": "stdout",
     "text": "2020-07-01 10:06:58.410050\n"
    }
   ],
   "source": [
    "# Datetime now\n",
    "now = datetime.datetime.now()\n",
    "print(now)"
   ]
  },
  {
   "cell_type": "code",
   "execution_count": 21,
   "metadata": {
    "tags": []
   },
   "outputs": [
    {
     "output_type": "stream",
     "name": "stdout",
     "text": "2020-10-23 00:00:00\n"
    }
   ],
   "source": [
    "# Datetime on specified date\n",
    "\n",
    "stock = datetime.datetime(2020,10,23)\n",
    "print(stock)"
   ]
  },
  {
   "cell_type": "markdown",
   "metadata": {},
   "source": [
    "### Year\n",
    "<li>%Y: Year (4 digits)</li>\n",
    "<li>%y: Year (Last 2 Digit)</li>\n",
    "\n",
    "### Month\n",
    "<li>%m: Month as number (01,02,..,12)</li>\n",
    "<li>%b: Abbreviated month (Jan,Feb)</li>\n",
    "<li>%B: Full names(January,February)</li>\n",
    "\n",
    "### Day\n",
    "<li>%d: Day (01,02,03,..,31)</li>\n",
    "<li>%a: Abbreviated day (Sun,Sat)</li>\n",
    "<li>%A: Full name (Sunday,Monday)</li>\n",
    "<li>%w: Number of day(0,1,..,6)</li>\n",
    "\n",
    "### Hour\n",
    "\n",
    "<li>%H: Hour (24 hour)</li>\n",
    "<li>%I: Hour (12 hour)</li>\n",
    "<li>%M: Minutes</li>\n",
    "<li>%S: Seconds</li>\n",
    "<li>%f: Microsecond</li>\n",
    "<li>%p: AM/PM </li>"
   ]
  },
  {
   "cell_type": "code",
   "execution_count": 4,
   "metadata": {
    "tags": []
   },
   "outputs": [
    {
     "output_type": "stream",
     "name": "stdout",
     "text": "1989-10-13 00:00:00\n"
    }
   ],
   "source": [
    "# Datetimes from strings\n",
    "\n",
    "date_text = \"Friday the 13th, Oct, 1989\"\n",
    "date_format_str = \"%A the %dth, %b, %Y\"\n",
    "date_format = datetime.datetime.strptime(date_text, date_format_str)\n",
    "print(date_format)"
   ]
  },
  {
   "cell_type": "code",
   "execution_count": 6,
   "metadata": {
    "tags": []
   },
   "outputs": [
    {
     "output_type": "stream",
     "name": "stdout",
     "text": "1989-10-13 00:00:00\nFriday, October 13, 1989\n"
    }
   ],
   "source": [
    "# Converting format with datetimes\n",
    "\n",
    "# Old Format\n",
    "date_text = \"Friday the 13th, Oct, 1989\"\n",
    "date_format_str = \"%A the %dth, %b, %Y\"\n",
    "date_format = datetime.datetime.strptime(date_text, date_format_str)\n",
    "print(date_format)\n",
    "\n",
    "# New Format\n",
    "\n",
    "new_format = \"%A, %B %d, %Y\"\n",
    "new_date = date_format.strftime(new_format)\n",
    "print(new_date)"
   ]
  },
  {
   "cell_type": "code",
   "execution_count": 16,
   "metadata": {
    "tags": []
   },
   "outputs": [
    {
     "output_type": "stream",
     "name": "stdout",
     "text": "Year: 2010, Month: 5, Day: 10\n"
    }
   ],
   "source": [
    "date = datetime.datetime(2010, 5, 10)\n",
    "\n",
    "# Access the year\n",
    "yr  = date.year\n",
    "# Access the month\n",
    "mth = date.month\n",
    "# Access the day\n",
    "day = date.day\n",
    "\n",
    "print(f\"Year: {yr}, Month: {mth}, Day: {day}\")"
   ]
  },
  {
   "cell_type": "code",
   "execution_count": 17,
   "metadata": {
    "tags": []
   },
   "outputs": [
    {
     "output_type": "stream",
     "name": "stdout",
     "text": "False\n"
    }
   ],
   "source": [
    "# Comparing datetimes using BOOLEAN\n",
    "\n",
    "date1 = datetime.datetime(2010, 5, 10)\n",
    "date2 = datetime.datetime(2012, 3, 1)\n",
    "\n",
    "date_bool = date1 > date2 # < > == != etc\n",
    "print(date_bool)"
   ]
  },
  {
   "cell_type": "code",
   "execution_count": 27,
   "metadata": {
    "tags": []
   },
   "outputs": [
    {
     "output_type": "stream",
     "name": "stdout",
     "text": "2028-09-26 00:00:00\n2028-10-10 00:00:00\n2029-10-02 00:00:00\n"
    }
   ],
   "source": [
    "# Making relative datetime\n",
    "\n",
    "test = datetime(2028, 10, 3)\n",
    "\n",
    "week_before = test - timedelta(days=7)\n",
    "week_after = test + timedelta(weeks=1)\n",
    "year_after = test + timedelta(weeks = 52)\n",
    "\n",
    "# Print year_after\n",
    "print(week_before)\n",
    "print(week_after)\n",
    "print(year_after)"
   ]
  },
  {
   "cell_type": "code",
   "execution_count": null,
   "metadata": {},
   "outputs": [],
   "source": []
  }
 ],
 "metadata": {
  "language_info": {
   "codemirror_mode": {
    "name": "ipython",
    "version": 3
   },
   "file_extension": ".py",
   "mimetype": "text/x-python",
   "name": "python",
   "nbconvert_exporter": "python",
   "pygments_lexer": "ipython3",
   "version": 3
  },
  "orig_nbformat": 2,
  "kernelspec": {
   "name": "python_defaultSpec_1593974536465",
   "display_name": "Python 3.7.4 64-bit ('anaconda3': virtualenv)"
  }
 },
 "nbformat": 4,
 "nbformat_minor": 2
}