{
 "cells": [
  {
   "cell_type": "code",
   "execution_count": 11,
   "metadata": {
    "tags": []
   },
   "outputs": [
    {
     "output_type": "stream",
     "name": "stdout",
     "text": "date      close        volume       open       high        low\n0       13:33   1,155.14     1,145,529      1,172   1,176.88      1,152\n1  2019/08/02  1196.3200  1745450.0000  1203.0000  1209.5000  1190.0000\n2  2019/08/01  1211.7800  1771271.0000  1217.6300  1236.2980  1207.0000\n3  2019/07/31  1218.2000  1997999.0000  1224.8700  1234.9100  1208.1800\n4  2019/07/30  1228.0000  1430775.0000  1227.0000  1236.9100  1225.3200\n"
    }
   ],
   "source": [
    "import pandas as pd\n",
    "import matplotlib as plt\n",
    "data = pd.read_csv('HistoricalQuotes.csv')\n",
    "print(data.head())"
   ]
  },
  {
   "cell_type": "code",
   "execution_count": 10,
   "metadata": {
    "tags": []
   },
   "outputs": [
    {
     "output_type": "stream",
     "name": "stdout",
     "text": "date      close        volume       open       high        low\n0       13:33   1,155.14     1,145,529      1,172   1,176.88      1,152\n1  2019/08/02  1196.3200  1745450.0000  1203.0000  1209.5000  1190.0000\n2  2019/08/01  1211.7800  1771271.0000  1217.6300  1236.2980  1207.0000\n3  2019/07/31  1218.2000  1997999.0000  1224.8700  1234.9100  1208.1800\n4  2019/07/30  1228.0000  1430775.0000  1227.0000  1236.9100  1225.3200\n"
    }
   ],
   "source": [
    "print(data.head())"
   ]
  },
  {
   "cell_type": "code",
   "execution_count": 3,
   "metadata": {
    "tags": []
   },
   "outputs": [
    {
     "output_type": "stream",
     "name": "stdout",
     "text": "date     close        volume      open      high       low\n2514  2009/08/07  230.9017  2540727.0000  230.1794  232.0737  229.8359\n2515  2009/08/06  227.4971  2108417.0000  229.4873  229.7803  226.5726\n2516  2009/08/05  227.8911  2340638.0000  230.3461  230.8058  226.2443\n2517  2009/08/04  229.2014  2388618.0000  226.9970  229.3358  226.5221\n2518  2009/08/03  228.4316  2587139.0000  226.6787  229.2853  226.1231\n"
    }
   ],
   "source": [
    "print(data.tail())"
   ]
  },
  {
   "cell_type": "code",
   "execution_count": 4,
   "metadata": {
    "tags": []
   },
   "outputs": [
    {
     "output_type": "stream",
     "name": "stdout",
     "text": "date     close        volume      open      high       low\ncount         2519      2519          2519      2519      2519      2519\nunique        2519      2482          2516      2452      2446      2465\ntop     2016/06/03  292.9840  1672965.0000  310.6641  292.9840  291.9738\nfreq             1         3             2         3         3         3\n"
    }
   ],
   "source": [
    "print(data.describe())"
   ]
  },
  {
   "cell_type": "code",
   "execution_count": 12,
   "metadata": {},
   "outputs": [
    {
     "output_type": "execute_result",
     "data": {
      "text/plain": "              date     close        volume      open      high       low\ncount         2519      2519          2519      2519      2519      2519\nunique        2519      2482          2516      2452      2446      2465\ntop     2016/06/03  292.9840  1672965.0000  310.6641  292.9840  291.9738\nfreq             1         3             2         3         3         3",
      "text/html": "<div>\n<style scoped>\n    .dataframe tbody tr th:only-of-type {\n        vertical-align: middle;\n    }\n\n    .dataframe tbody tr th {\n        vertical-align: top;\n    }\n\n    .dataframe thead th {\n        text-align: right;\n    }\n</style>\n<table border=\"1\" class=\"dataframe\">\n  <thead>\n    <tr style=\"text-align: right;\">\n      <th></th>\n      <th>date</th>\n      <th>close</th>\n      <th>volume</th>\n      <th>open</th>\n      <th>high</th>\n      <th>low</th>\n    </tr>\n  </thead>\n  <tbody>\n    <tr>\n      <td>count</td>\n      <td>2519</td>\n      <td>2519</td>\n      <td>2519</td>\n      <td>2519</td>\n      <td>2519</td>\n      <td>2519</td>\n    </tr>\n    <tr>\n      <td>unique</td>\n      <td>2519</td>\n      <td>2482</td>\n      <td>2516</td>\n      <td>2452</td>\n      <td>2446</td>\n      <td>2465</td>\n    </tr>\n    <tr>\n      <td>top</td>\n      <td>2016/06/03</td>\n      <td>292.9840</td>\n      <td>1672965.0000</td>\n      <td>310.6641</td>\n      <td>292.9840</td>\n      <td>291.9738</td>\n    </tr>\n    <tr>\n      <td>freq</td>\n      <td>1</td>\n      <td>3</td>\n      <td>2</td>\n      <td>3</td>\n      <td>3</td>\n      <td>3</td>\n    </tr>\n  </tbody>\n</table>\n</div>"
     },
     "metadata": {},
     "execution_count": 12
    }
   ],
   "source": [
    "# Specified percentiles\n",
    "data.describe(percentiles=[0.3, 0.5, 0.6])"
   ]
  }
 ],
 "metadata": {
  "language_info": {
   "codemirror_mode": {
    "name": "ipython",
    "version": 3
   },
   "file_extension": ".py",
   "mimetype": "text/x-python",
   "name": "python",
   "nbconvert_exporter": "python",
   "pygments_lexer": "ipython3",
   "version": "3.7.4-final"
  },
  "orig_nbformat": 2,
  "kernelspec": {
   "name": "python37464bitbaseconda25287534149b419a95a41de18be99293",
   "display_name": "Python 3.7.4 64-bit ('base': conda)"
  }
 },
 "nbformat": 4,
 "nbformat_minor": 2
}