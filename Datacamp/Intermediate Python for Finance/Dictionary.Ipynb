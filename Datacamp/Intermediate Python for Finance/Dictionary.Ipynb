{
 "cells": [
  {
   "cell_type": "markdown",
   "metadata": {},
   "source": [
    "# Dictionaries\n",
    "\n",
    "Consisted of Keys & Values. Keys is <b>Unique</b> only one item\n",
    "\n",
    "Example : {'Key-1':'Value-1','Key-2':'Value-2'..}\n",
    "\n",
    "2 Ways to make Dictionaries"
   ]
  },
  {
   "cell_type": "code",
   "execution_count": 1,
   "metadata": {
    "tags": []
   },
   "outputs": [
    {
     "output_type": "stream",
     "name": "stdout",
     "text": "{'AAPL': 'Apple', 'BBCA': 'BCA', 'BBRI': 'BRI'}\n"
    }
   ],
   "source": [
    "# Creating dictionaries \n",
    "\n",
    "ticker_symbols = {'AAPL':'Apple','BBCA':'BCA','BBRI':'BRI'}\n",
    "print(ticker_symbols)"
   ]
  },
  {
   "cell_type": "code",
   "execution_count": 28,
   "metadata": {
    "tags": []
   },
   "outputs": [
    {
     "output_type": "stream",
     "name": "stdout",
     "text": "{'AAPL': 'Apple', 'BBCA': 'BCA', 'BBRI': 'BRI'}\n"
    }
   ],
   "source": [
    "# Creating dictionaries \n",
    "ticker_symbols = dict([['AAPL','Apple'],['BBCA','BCA'],['BBRI','BRI']])\n",
    "print(ticker_symbols)"
   ]
  },
  {
   "cell_type": "code",
   "execution_count": 6,
   "metadata": {
    "tags": []
   },
   "outputs": [
    {
     "output_type": "stream",
     "name": "stdout",
     "text": "{'AAPL': 'Apple', 'BBCA': 'BCA', 'BBRI': 'BRI', 'BMRI': 'Mandiri'}\n"
    }
   ],
   "source": [
    "# Adding to dictionar\n",
    "ticker_symbols['BMRI'] = 'Mandiri'\n",
    "print(ticker_symbols)"
   ]
  },
  {
   "cell_type": "code",
   "execution_count": 20,
   "metadata": {
    "tags": []
   },
   "outputs": [
    {
     "output_type": "stream",
     "name": "stdout",
     "text": "BCA\nNone\nMISSING\n"
    }
   ],
   "source": [
    "# Accessing Values using key\n",
    "test0 = ticker_symbols['BBCA']\n",
    "print(test0)\n",
    "\n",
    "#Error\n",
    "#ticker_symbols['BFIN']\n",
    "\n",
    "# Accessing Values using get\n",
    "test1 = ticker_symbols.get('BFIN')\n",
    "print(test1)\n",
    "\n",
    "# Accessing Values if missing\n",
    "test1 = ticker_symbols.get('BFIN','MISSING')\n",
    "print(test1)"
   ]
  },
  {
   "cell_type": "code",
   "execution_count": 29,
   "metadata": {
    "tags": []
   },
   "outputs": [
    {
     "output_type": "stream",
     "name": "stdout",
     "text": "{'AAPL': 'Apple', 'BBRI': 'BRI'}\n"
    }
   ],
   "source": [
    "# Deleting from dictionaries\n",
    "del(ticker_symbols['BBCA'])\n",
    "print(ticker_symbols)"
   ]
  },
  {
   "cell_type": "code",
   "execution_count": null,
   "metadata": {},
   "outputs": [],
   "source": []
  }
 ],
 "metadata": {
  "language_info": {
   "codemirror_mode": {
    "name": "ipython",
    "version": 3
   },
   "file_extension": ".py",
   "mimetype": "text/x-python",
   "name": "python",
   "nbconvert_exporter": "python",
   "pygments_lexer": "ipython3",
   "version": 3
  },
  "orig_nbformat": 2,
  "kernelspec": {
   "name": "python_defaultSpec_1593976360910",
   "display_name": "Python 3.7.4 64-bit ('base': conda)"
  }
 },
 "nbformat": 4,
 "nbformat_minor": 2
}