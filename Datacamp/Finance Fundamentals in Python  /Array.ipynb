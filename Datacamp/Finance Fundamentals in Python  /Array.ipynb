{
 "cells": [
  {
   "cell_type": "markdown",
   "metadata": {},
   "source": [
    "# Why use array for financial analysis?\n",
    "\n",
    "Array can handle large datasets efficiently. \n",
    "\n",
    "Array using np.array()."
   ]
  },
  {
   "cell_type": "code",
   "execution_count": 5,
   "metadata": {},
   "outputs": [],
   "source": [
    "import numpy as np"
   ]
  },
  {
   "cell_type": "code",
   "execution_count": 16,
   "metadata": {
    "tags": []
   },
   "outputs": [],
   "source": [
    "earnings = [9.2, 5.31, 2.41, 5.91, 15.42, 2.51, 6.79]\n",
    "prices = [170.12, 93.29, 55.28, 145.30, 171.81, 59.50, 100.50]\n",
    "earnings_array = np.array(earnings)\n",
    "prices_array = np.array(prices)"
   ]
  },
  {
   "cell_type": "code",
   "execution_count": 18,
   "metadata": {
    "tags": []
   },
   "outputs": [
    {
     "output_type": "stream",
     "name": "stdout",
     "text": "[ 9.2   5.31  2.41  5.91 15.42  2.51  6.79]\n<class 'numpy.ndarray'>\n"
    }
   ],
   "source": [
    "print(earnings_array)\n",
    "print(type(earnings_array))"
   ]
  },
  {
   "cell_type": "code",
   "execution_count": 20,
   "metadata": {},
   "outputs": [
    {
     "output_type": "execute_result",
     "data": {
      "text/plain": "array([18.49130435, 17.56873823, 22.93775934, 24.58544839, 11.14202335,\n       23.70517928, 14.8011782 ])"
     },
     "metadata": {},
     "execution_count": 20
    }
   ],
   "source": [
    "#Operations on arrays\n",
    "prices_array / earnings_array #will divide each element one by one"
   ]
  },
  {
   "cell_type": "markdown",
   "metadata": {},
   "source": [
    "# Subsetting elements from array\n",
    "\n",
    "Similar to subsetting lists"
   ]
  },
  {
   "cell_type": "code",
   "execution_count": 22,
   "metadata": {},
   "outputs": [
    {
     "output_type": "execute_result",
     "data": {
      "text/plain": "[170.12, 55.28, 171.81]"
     },
     "metadata": {},
     "execution_count": 22
    }
   ],
   "source": [
    "earnings[1:2]\n",
    "prices[0:5:2]"
   ]
  },
  {
   "cell_type": "markdown",
   "metadata": {},
   "source": [
    "# Two Dimensional Arrays\n",
    "\n",
    "Combine 2 arrays into one (Table)"
   ]
  },
  {
   "cell_type": "code",
   "execution_count": 33,
   "metadata": {
    "tags": []
   },
   "outputs": [
    {
     "output_type": "stream",
     "name": "stdout",
     "text": "[[  9.2    5.31   2.41   5.91  15.42   2.51   6.79]\n [170.12  93.29  55.28 145.3  171.81  59.5  100.5 ]]\n(2, 7)\n14\n"
    }
   ],
   "source": [
    "stock_array = np.array([earnings,prices]) #2 dimension arrays\n",
    "print(stock_array)\n",
    "print(stock_array.shape) #Print dimension of arrays\n",
    "print(stock_array.size) #Give total elements in the array"
   ]
  },
  {
   "cell_type": "markdown",
   "metadata": {},
   "source": [
    "# Transpose Array\n",
    "\n",
    "Changes columns to row and vice versa"
   ]
  },
  {
   "cell_type": "code",
   "execution_count": 26,
   "metadata": {
    "tags": []
   },
   "outputs": [
    {
     "output_type": "stream",
     "name": "stdout",
     "text": "[[  9.2  170.12]\n [  5.31  93.29]\n [  2.41  55.28]\n [  5.91 145.3 ]\n [ 15.42 171.81]\n [  2.51  59.5 ]\n [  6.79 100.5 ]]\n"
    }
   ],
   "source": [
    "stock_array_transpose = np.transpose(stock_array)\n",
    "print(stock_array_transpose)"
   ]
  },
  {
   "cell_type": "markdown",
   "metadata": {},
   "source": [
    "# Subsetting 2D Arrays\n",
    "\n",
    "Array[[row_index,column_index]]\n",
    "Example : Array[[1:,3]] 2nd row 3rd column"
   ]
  },
  {
   "cell_type": "code",
   "execution_count": 45,
   "metadata": {
    "tags": []
   },
   "outputs": [
    {
     "output_type": "stream",
     "name": "stdout",
     "text": "[171.81]\n[ 9.2   5.31  2.41  5.91 15.42  2.51  6.79]\n"
    }
   ],
   "source": [
    "print(stock_array[1:,4])\n",
    "print(stock_array[0,])"
   ]
  },
  {
   "cell_type": "markdown",
   "metadata": {},
   "source": [
    "# Calculating Array"
   ]
  },
  {
   "cell_type": "code",
   "execution_count": 53,
   "metadata": {
    "tags": []
   },
   "outputs": [
    {
     "output_type": "stream",
     "name": "stdout",
     "text": "113.6857142857143 45.51277932221513\n"
    }
   ],
   "source": [
    "prices_mean = np.mean(prices)\n",
    "prices_std = np.std(prices)\n",
    "print(prices_mean,prices_std)"
   ]
  },
  {
   "cell_type": "markdown",
   "metadata": {},
   "source": [
    "## Create sequence number using np.arange()\n",
    "\n",
    "To create range of number, use np.arange"
   ]
  },
  {
   "cell_type": "code",
   "execution_count": 56,
   "metadata": {
    "tags": []
   },
   "outputs": [
    {
     "output_type": "stream",
     "name": "stdout",
     "text": "[ 1  3  5  7  9 11 13 15 17 19 21 23 25 27 29 31 33 35 37 39 41 43 45 47\n 49 51 53 55 57 59 61 63 65 67 69 71 73 75 77 79 81 83 85 87 89 91 93 95\n 97 99]\n"
    }
   ],
   "source": [
    "#np.arange(start,stop,step) <-Argument\n",
    "number_arange = np.arange(1,100,2)\n",
    "print(number_arange)"
   ]
  },
  {
   "cell_type": "markdown",
   "metadata": {},
   "source": [
    "# Boolean Array\n",
    "\n",
    "Subset array by using boolean"
   ]
  },
  {
   "cell_type": "code",
   "execution_count": 62,
   "metadata": {
    "tags": []
   },
   "outputs": [
    {
     "output_type": "stream",
     "name": "stdout",
     "text": "[False False False False False False False False False False False False\n False False False  True  True  True  True  True  True  True  True  True\n  True  True  True  True  True  True  True  True  True  True  True  True\n  True  True  True  True  True  True  True  True  True  True  True  True\n  True  True]\n[31 33 35 37 39 41 43 45 47 49 51 53 55 57 59 61 63 65 67 69 71 73 75 77\n 79 81 83 85 87 89 91 93 95 97 99]\n"
    }
   ],
   "source": [
    "Boolean_array = (number_arange > 30) #Statement\n",
    "print(Boolean_array) #check the number\n",
    "print(number_arange[Boolean_array])"
   ]
  },
  {
   "cell_type": "code",
   "execution_count": null,
   "metadata": {},
   "outputs": [],
   "source": []
  }
 ],
 "metadata": {
  "language_info": {
   "codemirror_mode": {
    "name": "ipython",
    "version": 3
   },
   "file_extension": ".py",
   "mimetype": "text/x-python",
   "name": "python",
   "nbconvert_exporter": "python",
   "pygments_lexer": "ipython3",
   "version": "3.7.4-final"
  },
  "orig_nbformat": 2,
  "kernelspec": {
   "name": "python37464bitbaseconda25287534149b419a95a41de18be99293",
   "display_name": "Python 3.7.4 64-bit ('base': conda)"
  }
 },
 "nbformat": 4,
 "nbformat_minor": 2
}