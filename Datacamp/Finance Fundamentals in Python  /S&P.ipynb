{
 "cells": [
  {
   "cell_type": "markdown",
   "metadata": {},
   "source": [
    "# S&P 100\n",
    "\n",
    "Top 100 Companies in USA"
   ]
  },
  {
   "cell_type": "markdown",
   "metadata": {},
   "source": [
    "# Price to Earnings Ration (PER)\n",
    "\n",
    "#### To measure growth expectations of stocks\n",
    "\n",
    "PER = Market Price / Earning Per Share (EPS)"
   ]
  },
  {
   "cell_type": "markdown",
   "metadata": {},
   "source": [
    "# Visualizing trends / check outlier\n",
    "\n",
    "<li>1. Create scatter plot </li>\n",
    "<li>2. Check if there's weird data </li>\n",
    "<li>3. Create histogram </li>\n",
    "<li>4. Identify the ourtlier </li>"
   ]
  }
 ],
 "metadata": {
  "language_info": {
   "codemirror_mode": {
    "name": "ipython",
    "version": 3
   },
   "file_extension": ".py",
   "mimetype": "text/x-python",
   "name": "python",
   "nbconvert_exporter": "python",
   "pygments_lexer": "ipython3",
   "version": 3
  },
  "orig_nbformat": 2,
  "kernelspec": {
   "name": "python_defaultSpec_1593544228514",
   "display_name": "Python 3.7.4 64-bit ('anaconda3': virtualenv)"
  }
 },
 "nbformat": 4,
 "nbformat_minor": 2
}