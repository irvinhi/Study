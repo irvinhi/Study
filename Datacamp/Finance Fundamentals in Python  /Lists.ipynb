{
 "cells": [
  {
   "cell_type": "markdown",
   "metadata": {},
   "source": [
    "# Slicing: Subset list elements uses list and colon\n",
    "\n",
    "List formula starts from beginning and end before the end itself.\n",
    "\n",
    "Example: mylist [[startAt:endBefore]] -> mylist [1:3] -> from 1 until 2 (3 doesnt count since it end before itself)\n"
   ]
  },
  {
   "cell_type": "code",
   "execution_count": 8,
   "metadata": {
    "tags": []
   },
   "outputs": [
    {
     "output_type": "stream",
     "name": "stdout",
     "text": "['February', 'March', 'April', 'May']\n"
    }
   ],
   "source": [
    "months = ['January', 'February', 'March','April', 'May', 'June', 'August', 'September', 'October', 'November', 'December']\n",
    "print(months[1:5])"
   ]
  },
  {
   "cell_type": "markdown",
   "metadata": {},
   "source": [
    "# Extended Slicing : \n",
    "Can stating list elements without start or end index\n",
    "\n",
    "Example : mylist [[startAt:]]\n",
    "\n",
    "Example : mylist [[:endBefore]]\n",
    "\n",
    "Example : mylist [[:-1]] -> Will show the last index.\n",
    " \n",
    "Example : mylist [[:-2]] -> Will show the last 2nd index and so on.\n",
    "        \n"
   ]
  },
  {
   "cell_type": "code",
   "execution_count": 11,
   "metadata": {
    "tags": []
   },
   "outputs": [
    {
     "output_type": "stream",
     "name": "stdout",
     "text": "['March', 'April', 'May', 'June', 'August', 'September', 'October', 'November', 'December']\n['January', 'February', 'March']\n"
    }
   ],
   "source": [
    "print(months[2:])\n",
    "print(months[:3])"
   ]
  },
  {
   "cell_type": "markdown",
   "metadata": {},
   "source": [
    "# Slicing with steps \n",
    "\n",
    "Slicing as usual but with steps\n",
    "\n",
    "Example : Example: mylist [[startAt:endBefore:steps]]\n"
   ]
  },
  {
   "cell_type": "code",
   "execution_count": 15,
   "metadata": {
    "tags": []
   },
   "outputs": [
    {
     "output_type": "stream",
     "name": "stdout",
     "text": "['February', 'April', 'June', 'September', 'November']\n['January', 'April', 'August', 'November']\n"
    }
   ],
   "source": [
    "print(months[1:10:2])\n",
    "print(months[:11:3])"
   ]
  },
  {
   "cell_type": "markdown",
   "metadata": {},
   "source": [
    "# Nested List\n",
    "\n",
    "List inside list"
   ]
  },
  {
   "cell_type": "code",
   "execution_count": 47,
   "metadata": {},
   "outputs": [],
   "source": [
    "names = ['Apple Inc', 'Coca-Cola', 'Walmart']\n",
    "prices = [159.54, 37.13, 71.17]\n",
    "stocks = [names, prices] #Nested List"
   ]
  },
  {
   "cell_type": "code",
   "execution_count": 25,
   "metadata": {
    "tags": []
   },
   "outputs": [
    {
     "output_type": "stream",
     "name": "stdout",
     "text": "[['Apple Inc', 'Coca-Cola', 'Walmart'], [159.54, 37.13, 71.17]] \n\n['Apple Inc', 'Coca-Cola', 'Walmart']\n"
    }
   ],
   "source": [
    "print(stocks, '\\n' ) # Will show all lists\n",
    "print(stocks[0]) # Will show first list entirely\n"
   ]
  },
  {
   "cell_type": "markdown",
   "metadata": {},
   "source": [
    "# Subset Nested List\n",
    "\n",
    "Use two indices:\n",
    "\n",
    "First index as list element you want.\n",
    "\n",
    "Second index as position list element from first index.\n"
   ]
  },
  {
   "cell_type": "code",
   "execution_count": 26,
   "metadata": {
    "tags": []
   },
   "outputs": [
    {
     "output_type": "stream",
     "name": "stdout",
     "text": "[['Apple Inc', 'Coca-Cola', 'Walmart'], [159.54, 37.13, 71.17]]\n[[159.54, 37.13, 71.17]]\n"
    }
   ],
   "source": [
    "print(stocks[0:2])\n",
    "print(stocks[1:2])"
   ]
  },
  {
   "cell_type": "markdown",
   "metadata": {},
   "source": [
    "# Methods VS Functions\n",
    "\n",
    "Methods = Help retrieve and manipulate data\n",
    "\n",
    "Functions = Take objects as inputs"
   ]
  },
  {
   "cell_type": "code",
   "execution_count": 36,
   "metadata": {
    "tags": []
   },
   "outputs": [
    {
     "output_type": "stream",
     "name": "stdout",
     "text": "[37.13, 71.17, 159.54]\n159.54\n"
    }
   ],
   "source": [
    "#Functions\n",
    "print(max(prices)) #find max value"
   ]
  },
  {
   "cell_type": "code",
   "execution_count": 61,
   "metadata": {
    "tags": []
   },
   "outputs": [
    {
     "output_type": "stream",
     "name": "stdout",
     "text": "[20, 20, 20, 20, 20, 20, 20, 20, 20, 20, 20, 20, 20, 33, 33, 33, 33, 33, 33, 33, 33, 33, 33, 33, 33, 33, 37.13, 50, 50, 50, 50, 50, 50, 50, 50, 50, 50, 50, 50, 50, 71.17, 159.54]\n[20, 20, 20, 20, 20, 20, 20, 20, 20, 20, 20, 20, 20, 33, 33, 33, 33, 33, 33, 33, 33, 33, 33, 33, 33, 33, 37.13, 50, 50, 50, 50, 50, 50, 50, 50, 50, 50, 50, 50, 50, 71.17, 159.54, 50]\n[20, 20, 20, 20, 20, 20, 20, 20, 20, 20, 20, 20, 20, 33, 33, 33, 33, 33, 33, 33, 33, 33, 33, 33, 33, 33, 37.13, 50, 50, 50, 50, 50, 50, 50, 50, 50, 50, 50, 50, 50, 71.17, 159.54, 50, 20, 33]\n"
    },
    {
     "output_type": "execute_result",
     "data": {
      "text/plain": "0"
     },
     "metadata": {},
     "execution_count": 61
    }
   ],
   "source": [
    "#Methods\n",
    "prices.sort() #Sort list\n",
    "print(prices)\n",
    "prices.append(50) #add the value only one \n",
    "print(prices)\n",
    "prices.extend([20,33]) #add the value more than one\n",
    "print(prices)\n",
    "prices.index(20)"
   ]
  },
  {
   "cell_type": "code",
   "execution_count": null,
   "metadata": {},
   "outputs": [],
   "source": []
  }
 ],
 "metadata": {
  "language_info": {
   "codemirror_mode": {
    "name": "ipython",
    "version": 3
   },
   "file_extension": ".py",
   "mimetype": "text/x-python",
   "name": "python",
   "nbconvert_exporter": "python",
   "pygments_lexer": "ipython3",
   "version": "3.7.4-final"
  },
  "orig_nbformat": 2,
  "kernelspec": {
   "name": "python37464bitbaseconda25287534149b419a95a41de18be99293",
   "display_name": "Python 3.7.4 64-bit ('base': conda)"
  }
 },
 "nbformat": 4,
 "nbformat_minor": 2
}